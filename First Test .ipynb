{
 "cells": [
  {
   "cell_type": "markdown",
   "metadata": {},
   "source": [
    "## Test Notebook"
   ]
  },
  {
   "cell_type": "code",
   "execution_count": 89,
   "metadata": {},
   "outputs": [
    {
     "name": "stderr",
     "output_type": "stream",
     "text": [
      "Warning message:\n",
      "\"package 'dplyr' was built under R version 3.6.3\"\n",
      "Attaching package: 'dplyr'\n",
      "\n",
      "The following objects are masked from 'package:stats':\n",
      "\n",
      "    filter, lag\n",
      "\n",
      "The following objects are masked from 'package:base':\n",
      "\n",
      "    intersect, setdiff, setequal, union\n",
      "\n"
     ]
    }
   ],
   "source": [
    "library(ggplot2)\n",
    "library(dplyr)"
   ]
  },
  {
   "cell_type": "code",
   "execution_count": 3,
   "metadata": {},
   "outputs": [
    {
     "data": {
      "text/plain": [
       " manufacturer          model               displ            year     \n",
       " Length:234         Length:234         Min.   :1.600   Min.   :1999  \n",
       " Class :character   Class :character   1st Qu.:2.400   1st Qu.:1999  \n",
       " Mode  :character   Mode  :character   Median :3.300   Median :2004  \n",
       "                                       Mean   :3.472   Mean   :2004  \n",
       "                                       3rd Qu.:4.600   3rd Qu.:2008  \n",
       "                                       Max.   :7.000   Max.   :2008  \n",
       "      cyl           trans               drv                 cty       \n",
       " Min.   :4.000   Length:234         Length:234         Min.   : 9.00  \n",
       " 1st Qu.:4.000   Class :character   Class :character   1st Qu.:14.00  \n",
       " Median :6.000   Mode  :character   Mode  :character   Median :17.00  \n",
       " Mean   :5.889                                         Mean   :16.86  \n",
       " 3rd Qu.:8.000                                         3rd Qu.:19.00  \n",
       " Max.   :8.000                                         Max.   :35.00  \n",
       "      hwy             fl               class          \n",
       " Min.   :12.00   Length:234         Length:234        \n",
       " 1st Qu.:18.00   Class :character   Class :character  \n",
       " Median :24.00   Mode  :character   Mode  :character  \n",
       " Mean   :23.44                                        \n",
       " 3rd Qu.:27.00                                        \n",
       " Max.   :44.00                                        "
      ]
     },
     "metadata": {},
     "output_type": "display_data"
    }
   ],
   "source": [
    "summary(mpg)"
   ]
  },
  {
   "cell_type": "code",
   "execution_count": 4,
   "metadata": {},
   "outputs": [
    {
     "data": {
      "text/html": [
       "<table>\n",
       "<thead><tr><th scope=col>manufacturer</th><th scope=col>model</th><th scope=col>displ</th><th scope=col>year</th><th scope=col>cyl</th><th scope=col>trans</th><th scope=col>drv</th><th scope=col>cty</th><th scope=col>hwy</th><th scope=col>fl</th><th scope=col>class</th></tr></thead>\n",
       "<tbody>\n",
       "\t<tr><td>audi      </td><td>a4        </td><td>1.8       </td><td>1999      </td><td>4         </td><td>auto(l5)  </td><td>f         </td><td>18        </td><td>29        </td><td>p         </td><td>compact   </td></tr>\n",
       "\t<tr><td>audi      </td><td>a4        </td><td>1.8       </td><td>1999      </td><td>4         </td><td>manual(m5)</td><td>f         </td><td>21        </td><td>29        </td><td>p         </td><td>compact   </td></tr>\n",
       "\t<tr><td>audi      </td><td>a4        </td><td>2.0       </td><td>2008      </td><td>4         </td><td>manual(m6)</td><td>f         </td><td>20        </td><td>31        </td><td>p         </td><td>compact   </td></tr>\n",
       "\t<tr><td>audi      </td><td>a4        </td><td>2.0       </td><td>2008      </td><td>4         </td><td>auto(av)  </td><td>f         </td><td>21        </td><td>30        </td><td>p         </td><td>compact   </td></tr>\n",
       "\t<tr><td>audi      </td><td>a4        </td><td>2.8       </td><td>1999      </td><td>6         </td><td>auto(l5)  </td><td>f         </td><td>16        </td><td>26        </td><td>p         </td><td>compact   </td></tr>\n",
       "\t<tr><td>audi      </td><td>a4        </td><td>2.8       </td><td>1999      </td><td>6         </td><td>manual(m5)</td><td>f         </td><td>18        </td><td>26        </td><td>p         </td><td>compact   </td></tr>\n",
       "</tbody>\n",
       "</table>\n"
      ],
      "text/latex": [
       "\\begin{tabular}{r|lllllllllll}\n",
       " manufacturer & model & displ & year & cyl & trans & drv & cty & hwy & fl & class\\\\\n",
       "\\hline\n",
       "\t audi       & a4         & 1.8        & 1999       & 4          & auto(l5)   & f          & 18         & 29         & p          & compact   \\\\\n",
       "\t audi       & a4         & 1.8        & 1999       & 4          & manual(m5) & f          & 21         & 29         & p          & compact   \\\\\n",
       "\t audi       & a4         & 2.0        & 2008       & 4          & manual(m6) & f          & 20         & 31         & p          & compact   \\\\\n",
       "\t audi       & a4         & 2.0        & 2008       & 4          & auto(av)   & f          & 21         & 30         & p          & compact   \\\\\n",
       "\t audi       & a4         & 2.8        & 1999       & 6          & auto(l5)   & f          & 16         & 26         & p          & compact   \\\\\n",
       "\t audi       & a4         & 2.8        & 1999       & 6          & manual(m5) & f          & 18         & 26         & p          & compact   \\\\\n",
       "\\end{tabular}\n"
      ],
      "text/markdown": [
       "\n",
       "| manufacturer | model | displ | year | cyl | trans | drv | cty | hwy | fl | class |\n",
       "|---|---|---|---|---|---|---|---|---|---|---|\n",
       "| audi       | a4         | 1.8        | 1999       | 4          | auto(l5)   | f          | 18         | 29         | p          | compact    |\n",
       "| audi       | a4         | 1.8        | 1999       | 4          | manual(m5) | f          | 21         | 29         | p          | compact    |\n",
       "| audi       | a4         | 2.0        | 2008       | 4          | manual(m6) | f          | 20         | 31         | p          | compact    |\n",
       "| audi       | a4         | 2.0        | 2008       | 4          | auto(av)   | f          | 21         | 30         | p          | compact    |\n",
       "| audi       | a4         | 2.8        | 1999       | 6          | auto(l5)   | f          | 16         | 26         | p          | compact    |\n",
       "| audi       | a4         | 2.8        | 1999       | 6          | manual(m5) | f          | 18         | 26         | p          | compact    |\n",
       "\n"
      ],
      "text/plain": [
       "  manufacturer model displ year cyl trans      drv cty hwy fl class  \n",
       "1 audi         a4    1.8   1999 4   auto(l5)   f   18  29  p  compact\n",
       "2 audi         a4    1.8   1999 4   manual(m5) f   21  29  p  compact\n",
       "3 audi         a4    2.0   2008 4   manual(m6) f   20  31  p  compact\n",
       "4 audi         a4    2.0   2008 4   auto(av)   f   21  30  p  compact\n",
       "5 audi         a4    2.8   1999 6   auto(l5)   f   16  26  p  compact\n",
       "6 audi         a4    2.8   1999 6   manual(m5) f   18  26  p  compact"
      ]
     },
     "metadata": {},
     "output_type": "display_data"
    }
   ],
   "source": [
    "head(mpg)"
   ]
  },
  {
   "cell_type": "markdown",
   "metadata": {},
   "source": [
    "## Plotting using ggplot2"
   ]
  },
  {
   "cell_type": "code",
   "execution_count": 30,
   "metadata": {},
   "outputs": [],
   "source": [
    "options(repr.plot.width=6, repr.plot.height=4)"
   ]
  },
  {
   "cell_type": "code",
   "execution_count": 31,
   "metadata": {},
   "outputs": [
    {
     "data": {
      "image/png": "[encoded data removed]",
      "text/plain": [
       "plot without title"
      ]
     },
     "metadata": {},
     "output_type": "display_data"
    }
   ],
   "source": [
    "\n",
    "# data plotting\n",
    "ggplot(mpg,aes(x=displ,y=hwy,color=\"blue\"))+geom_point()"
   ]
  },
  {
   "cell_type": "code",
   "execution_count": 86,
   "metadata": {},
   "outputs": [
    {
     "data": {
      "image/png": "[encoded data removed]",
      "text/plain": [
       "plot without title"
      ]
     },
     "metadata": {},
     "output_type": "display_data"
    }
   ],
   "source": [
    "ggplot(mpg,aes(x=class,fill=factor(cyl)))+\n",
    "                    geom_bar()+\n",
    "                    scale_color_brewer(palette=\"Set2\")"
   ]
  },
  {
   "cell_type": "code",
   "execution_count": 112,
   "metadata": {},
   "outputs": [
    {
     "data": {
      "image/png": "[encoded data removed]",
      "text/plain": [
       "plot without title"
      ]
     },
     "metadata": {},
     "output_type": "display_data"
    }
   ],
   "source": [
    "ggplot(mpg,aes(x = class, y =cty )) + \n",
    "            stat_summary(fun = \"mean\", geom = \"bar\",fill='#CD6853')+\n",
    "                    scale_color_brewer(palette=\"Set2\")+\n",
    "            stat_summary(aes(label=round(..y..,2)), fun=mean, geom=\"text\", size=2,\n",
    "             vjust = -0.5)+\n",
    "            labs(title='Average City MPG by Class',\n",
    "                x='Class Of Cars',\n",
    "                y='Average MPG')+\n",
    "            theme(plot.title = element_text(hjust = 0.5))\n",
    "\n",
    "\n"
   ]
  },
  {
   "cell_type": "code",
   "execution_count": null,
   "metadata": {},
   "outputs": [],
   "source": []
  },
  {
   "cell_type": "markdown",
   "metadata": {},
   "source": [
    "## Performing Correlation\n"
   ]
  },
  {
   "cell_type": "code",
   "execution_count": 117,
   "metadata": {},
   "outputs": [
    {
     "data": {
      "text/html": [
       "<table>\n",
       "<thead><tr><th scope=col>manufacturer</th><th scope=col>model</th><th scope=col>displ</th><th scope=col>year</th><th scope=col>cyl</th><th scope=col>trans</th><th scope=col>drv</th><th scope=col>cty</th><th scope=col>hwy</th><th scope=col>fl</th><th scope=col>class</th></tr></thead>\n",
       "<tbody>\n",
       "\t<tr><td>audi      </td><td>a4        </td><td>1.8       </td><td>1999      </td><td>4         </td><td>auto(l5)  </td><td>f         </td><td>18        </td><td>29        </td><td>p         </td><td>compact   </td></tr>\n",
       "\t<tr><td>audi      </td><td>a4        </td><td>1.8       </td><td>1999      </td><td>4         </td><td>manual(m5)</td><td>f         </td><td>21        </td><td>29        </td><td>p         </td><td>compact   </td></tr>\n",
       "\t<tr><td>audi      </td><td>a4        </td><td>2.0       </td><td>2008      </td><td>4         </td><td>manual(m6)</td><td>f         </td><td>20        </td><td>31        </td><td>p         </td><td>compact   </td></tr>\n",
       "\t<tr><td>audi      </td><td>a4        </td><td>2.0       </td><td>2008      </td><td>4         </td><td>auto(av)  </td><td>f         </td><td>21        </td><td>30        </td><td>p         </td><td>compact   </td></tr>\n",
       "\t<tr><td>audi      </td><td>a4        </td><td>2.8       </td><td>1999      </td><td>6         </td><td>auto(l5)  </td><td>f         </td><td>16        </td><td>26        </td><td>p         </td><td>compact   </td></tr>\n",
       "\t<tr><td>audi      </td><td>a4        </td><td>2.8       </td><td>1999      </td><td>6         </td><td>manual(m5)</td><td>f         </td><td>18        </td><td>26        </td><td>p         </td><td>compact   </td></tr>\n",
       "</tbody>\n",
       "</table>\n"
      ],
      "text/latex": [
       "\\begin{tabular}{r|lllllllllll}\n",
       " manufacturer & model & displ & year & cyl & trans & drv & cty & hwy & fl & class\\\\\n",
       "\\hline\n",
       "\t audi       & a4         & 1.8        & 1999       & 4          & auto(l5)   & f          & 18         & 29         & p          & compact   \\\\\n",
       "\t audi       & a4         & 1.8        & 1999       & 4          & manual(m5) & f          & 21         & 29         & p          & compact   \\\\\n",
       "\t audi       & a4         & 2.0        & 2008       & 4          & manual(m6) & f          & 20         & 31         & p          & compact   \\\\\n",
       "\t audi       & a4         & 2.0        & 2008       & 4          & auto(av)   & f          & 21         & 30         & p          & compact   \\\\\n",
       "\t audi       & a4         & 2.8        & 1999       & 6          & auto(l5)   & f          & 16         & 26         & p          & compact   \\\\\n",
       "\t audi       & a4         & 2.8        & 1999       & 6          & manual(m5) & f          & 18         & 26         & p          & compact   \\\\\n",
       "\\end{tabular}\n"
      ],
      "text/markdown": [
       "\n",
       "| manufacturer | model | displ | year | cyl | trans | drv | cty | hwy | fl | class |\n",
       "|---|---|---|---|---|---|---|---|---|---|---|\n",
       "| audi       | a4         | 1.8        | 1999       | 4          | auto(l5)   | f          | 18         | 29         | p          | compact    |\n",
       "| audi       | a4         | 1.8        | 1999       | 4          | manual(m5) | f          | 21         | 29         | p          | compact    |\n",
       "| audi       | a4         | 2.0        | 2008       | 4          | manual(m6) | f          | 20         | 31         | p          | compact    |\n",
       "| audi       | a4         | 2.0        | 2008       | 4          | auto(av)   | f          | 21         | 30         | p          | compact    |\n",
       "| audi       | a4         | 2.8        | 1999       | 6          | auto(l5)   | f          | 16         | 26         | p          | compact    |\n",
       "| audi       | a4         | 2.8        | 1999       | 6          | manual(m5) | f          | 18         | 26         | p          | compact    |\n",
       "\n"
      ],
      "text/plain": [
       "  manufacturer model displ year cyl trans      drv cty hwy fl class  \n",
       "1 audi         a4    1.8   1999 4   auto(l5)   f   18  29  p  compact\n",
       "2 audi         a4    1.8   1999 4   manual(m5) f   21  29  p  compact\n",
       "3 audi         a4    2.0   2008 4   manual(m6) f   20  31  p  compact\n",
       "4 audi         a4    2.0   2008 4   auto(av)   f   21  30  p  compact\n",
       "5 audi         a4    2.8   1999 6   auto(l5)   f   16  26  p  compact\n",
       "6 audi         a4    2.8   1999 6   manual(m5) f   18  26  p  compact"
      ]
     },
     "metadata": {},
     "output_type": "display_data"
    }
   ],
   "source": [
    "head(mpg)"
   ]
  },
  {
   "cell_type": "code",
   "execution_count": 116,
   "metadata": {},
   "outputs": [
    {
     "name": "stderr",
     "output_type": "stream",
     "text": [
      "`geom_smooth()` using formula 'y ~ x'\n"
     ]
    },
    {
     "data": {
      "image/png": "[encoded data removed]",
      "text/plain": [
       "plot without title"
      ]
     },
     "metadata": {},
     "output_type": "display_data"
    }
   ],
   "source": [
    "# correlation plot\n",
    "ggplot(mpg, aes(x=cty, y=hwy)) + \n",
    "  geom_point(shape=18, color=\"blue\")+\n",
    "  geom_smooth(method=lm, se=FALSE, linetype=\"dashed\",\n",
    "             color=\"darkred\",fill='blue')\n"
   ]
  },
  {
   "cell_type": "code",
   "execution_count": 69,
   "metadata": {},
   "outputs": [],
   "source": [
    "corr_res =cor(mpg[,c('displ','cyl','cty','hwy')], method = c(\"pearson\"))"
   ]
  },
  {
   "cell_type": "code",
   "execution_count": 70,
   "metadata": {},
   "outputs": [
    {
     "data": {
      "image/png": "[encoded data removed]",
      "text/plain": [
       "Plot with title \"\""
      ]
     },
     "metadata": {},
     "output_type": "display_data"
    }
   ],
   "source": [
    "library(corrplot)\n",
    "corrplot(corr_res, type = \"upper\", order = \"hclust\", \n",
    "         tl.col = \"black\", tl.srt = 45)"
   ]
  },
  {
   "cell_type": "code",
   "execution_count": 72,
   "metadata": {},
   "outputs": [],
   "source": [
    "corr_df <- as.data.frame(t(corr_res))"
   ]
  },
  {
   "cell_type": "code",
   "execution_count": 73,
   "metadata": {},
   "outputs": [
    {
     "data": {
      "text/html": [
       "<table>\n",
       "<thead><tr><th></th><th scope=col>displ</th><th scope=col>cyl</th><th scope=col>cty</th><th scope=col>hwy</th></tr></thead>\n",
       "<tbody>\n",
       "\t<tr><th scope=row>displ</th><td> 1.0000000</td><td> 0.9302271</td><td>-0.7985240</td><td>-0.7660200</td></tr>\n",
       "\t<tr><th scope=row>cyl</th><td> 0.9302271</td><td> 1.0000000</td><td>-0.8057714</td><td>-0.7619124</td></tr>\n",
       "\t<tr><th scope=row>cty</th><td>-0.7985240</td><td>-0.8057714</td><td> 1.0000000</td><td> 0.9559159</td></tr>\n",
       "\t<tr><th scope=row>hwy</th><td>-0.7660200</td><td>-0.7619124</td><td> 0.9559159</td><td> 1.0000000</td></tr>\n",
       "</tbody>\n",
       "</table>\n"
      ],
      "text/latex": [
       "\\begin{tabular}{r|llll}\n",
       "  & displ & cyl & cty & hwy\\\\\n",
       "\\hline\n",
       "\tdispl &  1.0000000 &  0.9302271 & -0.7985240 & -0.7660200\\\\\n",
       "\tcyl &  0.9302271 &  1.0000000 & -0.8057714 & -0.7619124\\\\\n",
       "\tcty & -0.7985240 & -0.8057714 &  1.0000000 &  0.9559159\\\\\n",
       "\thwy & -0.7660200 & -0.7619124 &  0.9559159 &  1.0000000\\\\\n",
       "\\end{tabular}\n"
      ],
      "text/markdown": [
       "\n",
       "| <!--/--> | displ | cyl | cty | hwy |\n",
       "|---|---|---|---|---|\n",
       "| displ |  1.0000000 |  0.9302271 | -0.7985240 | -0.7660200 |\n",
       "| cyl |  0.9302271 |  1.0000000 | -0.8057714 | -0.7619124 |\n",
       "| cty | -0.7985240 | -0.8057714 |  1.0000000 |  0.9559159 |\n",
       "| hwy | -0.7660200 | -0.7619124 |  0.9559159 |  1.0000000 |\n",
       "\n"
      ],
      "text/plain": [
       "      displ      cyl        cty        hwy       \n",
       "displ  1.0000000  0.9302271 -0.7985240 -0.7660200\n",
       "cyl    0.9302271  1.0000000 -0.8057714 -0.7619124\n",
       "cty   -0.7985240 -0.8057714  1.0000000  0.9559159\n",
       "hwy   -0.7660200 -0.7619124  0.9559159  1.0000000"
      ]
     },
     "metadata": {},
     "output_type": "display_data"
    }
   ],
   "source": [
    "corr_df"
   ]
  },
  {
   "cell_type": "code",
   "execution_count": 76,
   "metadata": {},
   "outputs": [
    {
     "name": "stderr",
     "output_type": "stream",
     "text": [
      "Warning message:\n",
      "\"package 'ggcorrplot' was built under R version 3.6.3\""
     ]
    }
   ],
   "source": [
    "library(ggcorrplot)"
   ]
  },
  {
   "cell_type": "code",
   "execution_count": 78,
   "metadata": {},
   "outputs": [
    {
     "data": {
      "image/png": "[encoded data removed]",
      "text/plain": [
       "plot without title"
      ]
     },
     "metadata": {},
     "output_type": "display_data"
    }
   ],
   "source": [
    "ggcorrplot(corr_res, hc.order = TRUE, type = \"upper\",\n",
    "     outline.col = \"white\")"
   ]
  },
  {
   "cell_type": "code",
   "execution_count": 79,
   "metadata": {},
   "outputs": [
    {
     "data": {
      "text/html": [
       "<table>\n",
       "<thead><tr><th></th><th scope=col>displ</th><th scope=col>cyl</th><th scope=col>cty</th><th scope=col>hwy</th></tr></thead>\n",
       "<tbody>\n",
       "\t<tr><th scope=row>displ</th><td> 1.0000000</td><td> 0.9302271</td><td>-0.7985240</td><td>-0.7660200</td></tr>\n",
       "\t<tr><th scope=row>cyl</th><td> 0.9302271</td><td> 1.0000000</td><td>-0.8057714</td><td>-0.7619124</td></tr>\n",
       "\t<tr><th scope=row>cty</th><td>-0.7985240</td><td>-0.8057714</td><td> 1.0000000</td><td> 0.9559159</td></tr>\n",
       "\t<tr><th scope=row>hwy</th><td>-0.7660200</td><td>-0.7619124</td><td> 0.9559159</td><td> 1.0000000</td></tr>\n",
       "</tbody>\n",
       "</table>\n"
      ],
      "text/latex": [
       "\\begin{tabular}{r|llll}\n",
       "  & displ & cyl & cty & hwy\\\\\n",
       "\\hline\n",
       "\tdispl &  1.0000000 &  0.9302271 & -0.7985240 & -0.7660200\\\\\n",
       "\tcyl &  0.9302271 &  1.0000000 & -0.8057714 & -0.7619124\\\\\n",
       "\tcty & -0.7985240 & -0.8057714 &  1.0000000 &  0.9559159\\\\\n",
       "\thwy & -0.7660200 & -0.7619124 &  0.9559159 &  1.0000000\\\\\n",
       "\\end{tabular}\n"
      ],
      "text/markdown": [
       "\n",
       "| <!--/--> | displ | cyl | cty | hwy |\n",
       "|---|---|---|---|---|\n",
       "| displ |  1.0000000 |  0.9302271 | -0.7985240 | -0.7660200 |\n",
       "| cyl |  0.9302271 |  1.0000000 | -0.8057714 | -0.7619124 |\n",
       "| cty | -0.7985240 | -0.8057714 |  1.0000000 |  0.9559159 |\n",
       "| hwy | -0.7660200 | -0.7619124 |  0.9559159 |  1.0000000 |\n",
       "\n"
      ],
      "text/plain": [
       "      displ      cyl        cty        hwy       \n",
       "displ  1.0000000  0.9302271 -0.7985240 -0.7660200\n",
       "cyl    0.9302271  1.0000000 -0.8057714 -0.7619124\n",
       "cty   -0.7985240 -0.8057714  1.0000000  0.9559159\n",
       "hwy   -0.7660200 -0.7619124  0.9559159  1.0000000"
      ]
     },
     "metadata": {},
     "output_type": "display_data"
    }
   ],
   "source": [
    "corr_df"
   ]
  },
  {
   "cell_type": "markdown",
   "metadata": {},
   "source": [
    "## performing regression in R"
   ]
  },
  {
   "cell_type": "code",
   "execution_count": 447,
   "metadata": {},
   "outputs": [],
   "source": [
    "library(xgboost)\n",
    "library(caret)\n",
    "library(dplyr)\n",
    "library(reshape2)\n",
    "library(tidymodels)"
   ]
  },
  {
   "cell_type": "code",
   "execution_count": null,
   "metadata": {},
   "outputs": [],
   "source": []
  },
  {
   "cell_type": "markdown",
   "metadata": {},
   "source": [
    "### Splitting dataset\n",
    "\n"
   ]
  },
  {
   "cell_type": "code",
   "execution_count": 653,
   "metadata": {},
   "outputs": [],
   "source": [
    "df <- mpg\n"
   ]
  },
  {
   "cell_type": "code",
   "execution_count": 654,
   "metadata": {},
   "outputs": [],
   "source": [
    "## separating geartype from transmission\n",
    "df <-df %>% \n",
    "tidyr::separate(trans,into=c(\"trans\",'geartype'),sep='\\\\(')%>%\n",
    "tidyr::separate(geartype,into=c(\"geartype\"),extra='drop',sep='\\\\)')\n"
   ]
  },
  {
   "cell_type": "code",
   "execution_count": 655,
   "metadata": {},
   "outputs": [
    {
     "data": {
      "text/html": [
       "<table>\n",
       "<thead><tr><th scope=col>manufacturer</th><th scope=col>model</th><th scope=col>displ</th><th scope=col>year</th><th scope=col>cyl</th><th scope=col>trans</th><th scope=col>geartype</th><th scope=col>drv</th><th scope=col>cty</th><th scope=col>hwy</th><th scope=col>fl</th><th scope=col>class</th></tr></thead>\n",
       "<tbody>\n",
       "\t<tr><td>audi   </td><td>a4     </td><td>1.8    </td><td>1999   </td><td>4      </td><td>auto   </td><td>l5     </td><td>f      </td><td>18     </td><td>29     </td><td>p      </td><td>compact</td></tr>\n",
       "\t<tr><td>audi   </td><td>a4     </td><td>1.8    </td><td>1999   </td><td>4      </td><td>manual </td><td>m5     </td><td>f      </td><td>21     </td><td>29     </td><td>p      </td><td>compact</td></tr>\n",
       "\t<tr><td>audi   </td><td>a4     </td><td>2.0    </td><td>2008   </td><td>4      </td><td>manual </td><td>m6     </td><td>f      </td><td>20     </td><td>31     </td><td>p      </td><td>compact</td></tr>\n",
       "\t<tr><td>audi   </td><td>a4     </td><td>2.0    </td><td>2008   </td><td>4      </td><td>auto   </td><td>av     </td><td>f      </td><td>21     </td><td>30     </td><td>p      </td><td>compact</td></tr>\n",
       "\t<tr><td>audi   </td><td>a4     </td><td>2.8    </td><td>1999   </td><td>6      </td><td>auto   </td><td>l5     </td><td>f      </td><td>16     </td><td>26     </td><td>p      </td><td>compact</td></tr>\n",
       "\t<tr><td>audi   </td><td>a4     </td><td>2.8    </td><td>1999   </td><td>6      </td><td>manual </td><td>m5     </td><td>f      </td><td>18     </td><td>26     </td><td>p      </td><td>compact</td></tr>\n",
       "</tbody>\n",
       "</table>\n"
      ],
      "text/latex": [
       "\\begin{tabular}{r|llllllllllll}\n",
       " manufacturer & model & displ & year & cyl & trans & geartype & drv & cty & hwy & fl & class\\\\\n",
       "\\hline\n",
       "\t audi    & a4      & 1.8     & 1999    & 4       & auto    & l5      & f       & 18      & 29      & p       & compact\\\\\n",
       "\t audi    & a4      & 1.8     & 1999    & 4       & manual  & m5      & f       & 21      & 29      & p       & compact\\\\\n",
       "\t audi    & a4      & 2.0     & 2008    & 4       & manual  & m6      & f       & 20      & 31      & p       & compact\\\\\n",
       "\t audi    & a4      & 2.0     & 2008    & 4       & auto    & av      & f       & 21      & 30      & p       & compact\\\\\n",
       "\t audi    & a4      & 2.8     & 1999    & 6       & auto    & l5      & f       & 16      & 26      & p       & compact\\\\\n",
       "\t audi    & a4      & 2.8     & 1999    & 6       & manual  & m5      & f       & 18      & 26      & p       & compact\\\\\n",
       "\\end{tabular}\n"
      ],
      "text/markdown": [
       "\n",
       "| manufacturer | model | displ | year | cyl | trans | geartype | drv | cty | hwy | fl | class |\n",
       "|---|---|---|---|---|---|---|---|---|---|---|---|\n",
       "| audi    | a4      | 1.8     | 1999    | 4       | auto    | l5      | f       | 18      | 29      | p       | compact |\n",
       "| audi    | a4      | 1.8     | 1999    | 4       | manual  | m5      | f       | 21      | 29      | p       | compact |\n",
       "| audi    | a4      | 2.0     | 2008    | 4       | manual  | m6      | f       | 20      | 31      | p       | compact |\n",
       "| audi    | a4      | 2.0     | 2008    | 4       | auto    | av      | f       | 21      | 30      | p       | compact |\n",
       "| audi    | a4      | 2.8     | 1999    | 6       | auto    | l5      | f       | 16      | 26      | p       | compact |\n",
       "| audi    | a4      | 2.8     | 1999    | 6       | manual  | m5      | f       | 18      | 26      | p       | compact |\n",
       "\n"
      ],
      "text/plain": [
       "  manufacturer model displ year cyl trans  geartype drv cty hwy fl class  \n",
       "1 audi         a4    1.8   1999 4   auto   l5       f   18  29  p  compact\n",
       "2 audi         a4    1.8   1999 4   manual m5       f   21  29  p  compact\n",
       "3 audi         a4    2.0   2008 4   manual m6       f   20  31  p  compact\n",
       "4 audi         a4    2.0   2008 4   auto   av       f   21  30  p  compact\n",
       "5 audi         a4    2.8   1999 6   auto   l5       f   16  26  p  compact\n",
       "6 audi         a4    2.8   1999 6   manual m5       f   18  26  p  compact"
      ]
     },
     "metadata": {},
     "output_type": "display_data"
    }
   ],
   "source": [
    "head(df)"
   ]
  },
  {
   "cell_type": "code",
   "execution_count": 656,
   "metadata": {},
   "outputs": [],
   "source": [
    "x_columns <- c(\"manufacturer\",\"model\",\"displ\",\"year\",\"cyl\",\"trans\",\"drv\",\"fl\",\"class\",'cty')"
   ]
  },
  {
   "cell_type": "code",
   "execution_count": 657,
   "metadata": {},
   "outputs": [],
   "source": [
    "# Random sample indexes\n",
    "train_index <- sample(1:nrow(df), 0.8 * nrow(df))\n",
    "test_index <- setdiff(1:nrow(df), train_index)\n",
    "\n",
    "# Build X_train, y_train, X_test, y_test\n",
    "X_train <- df[train_index,x_columns]\n",
    "y_train <- df[train_index, \"hwy\"]\n",
    "\n",
    "X_test <- df[test_index, x_columns]\n",
    "y_test <- df[test_index, \"hwy\"]"
   ]
  },
  {
   "cell_type": "markdown",
   "metadata": {},
   "source": [
    "## Performing Data processing\n"
   ]
  },
  {
   "cell_type": "code",
   "execution_count": 658,
   "metadata": {},
   "outputs": [],
   "source": [
    "df_t_int <- select_if(df, is.numeric)\n",
    "df_t_chr <- select_if(df, is.character)"
   ]
  },
  {
   "cell_type": "code",
   "execution_count": 659,
   "metadata": {},
   "outputs": [],
   "source": [
    "# dummifying the data\n",
    "dmy <- dummyVars(\"~.\", data = df[,x_columns])\n"
   ]
  },
  {
   "cell_type": "code",
   "execution_count": 660,
   "metadata": {},
   "outputs": [],
   "source": [
    "X_train <- predict(dmy, newdata = X_train)\n",
    "X_test <- predict(dmy, newdata = X_test)"
   ]
  },
  {
   "cell_type": "code",
   "execution_count": 661,
   "metadata": {},
   "outputs": [
    {
     "data": {
      "text/html": [
       "<table>\n",
       "<thead><tr><th scope=col>manufactureraudi</th><th scope=col>manufacturerchevrolet</th><th scope=col>manufacturerdodge</th><th scope=col>manufacturerford</th><th scope=col>manufacturerhonda</th><th scope=col>manufacturerhyundai</th><th scope=col>manufacturerjeep</th><th scope=col>manufacturerlincoln</th><th scope=col>manufacturermercury</th><th scope=col>manufacturernissan</th><th scope=col>...</th><th scope=col>flp</th><th scope=col>flr</th><th scope=col>class2seater</th><th scope=col>classcompact</th><th scope=col>classmidsize</th><th scope=col>classminivan</th><th scope=col>classpickup</th><th scope=col>classsubcompact</th><th scope=col>classsuv</th><th scope=col>cty</th></tr></thead>\n",
       "<tbody>\n",
       "\t<tr><td>0  </td><td>0  </td><td>0  </td><td>0  </td><td>0  </td><td>0  </td><td>0  </td><td>0  </td><td>0  </td><td>1  </td><td>...</td><td>0  </td><td>1  </td><td>0  </td><td>0  </td><td>1  </td><td>0  </td><td>0  </td><td>0  </td><td>0  </td><td>18 </td></tr>\n",
       "\t<tr><td>0  </td><td>0  </td><td>1  </td><td>0  </td><td>0  </td><td>0  </td><td>0  </td><td>0  </td><td>0  </td><td>0  </td><td>...</td><td>0  </td><td>1  </td><td>0  </td><td>0  </td><td>0  </td><td>1  </td><td>0  </td><td>0  </td><td>0  </td><td>16 </td></tr>\n",
       "\t<tr><td>1  </td><td>0  </td><td>0  </td><td>0  </td><td>0  </td><td>0  </td><td>0  </td><td>0  </td><td>0  </td><td>0  </td><td>...</td><td>1  </td><td>0  </td><td>0  </td><td>0  </td><td>1  </td><td>0  </td><td>0  </td><td>0  </td><td>0  </td><td>16 </td></tr>\n",
       "\t<tr><td>0  </td><td>0  </td><td>0  </td><td>0  </td><td>0  </td><td>0  </td><td>0  </td><td>0  </td><td>0  </td><td>0  </td><td>...</td><td>0  </td><td>1  </td><td>0  </td><td>1  </td><td>0  </td><td>0  </td><td>0  </td><td>0  </td><td>0  </td><td>21 </td></tr>\n",
       "\t<tr><td>0  </td><td>0  </td><td>0  </td><td>1  </td><td>0  </td><td>0  </td><td>0  </td><td>0  </td><td>0  </td><td>0  </td><td>...</td><td>0  </td><td>1  </td><td>0  </td><td>0  </td><td>0  </td><td>0  </td><td>0  </td><td>0  </td><td>1  </td><td>14 </td></tr>\n",
       "\t<tr><td>0  </td><td>0  </td><td>0  </td><td>1  </td><td>0  </td><td>0  </td><td>0  </td><td>0  </td><td>0  </td><td>0  </td><td>...</td><td>0  </td><td>1  </td><td>0  </td><td>0  </td><td>0  </td><td>0  </td><td>0  </td><td>0  </td><td>1  </td><td>11 </td></tr>\n",
       "</tbody>\n",
       "</table>\n"
      ],
      "text/latex": [
       "\\begin{tabular}{r|llllllllllllllllllllllllllllllllllllllllllllllllllllllllllllllllllllllll}\n",
       " manufactureraudi & manufacturerchevrolet & manufacturerdodge & manufacturerford & manufacturerhonda & manufacturerhyundai & manufacturerjeep & manufacturerlincoln & manufacturermercury & manufacturernissan & ... & flp & flr & class2seater & classcompact & classmidsize & classminivan & classpickup & classsubcompact & classsuv & cty\\\\\n",
       "\\hline\n",
       "\t 0   & 0   & 0   & 0   & 0   & 0   & 0   & 0   & 0   & 1   & ... & 0   & 1   & 0   & 0   & 1   & 0   & 0   & 0   & 0   & 18 \\\\\n",
       "\t 0   & 0   & 1   & 0   & 0   & 0   & 0   & 0   & 0   & 0   & ... & 0   & 1   & 0   & 0   & 0   & 1   & 0   & 0   & 0   & 16 \\\\\n",
       "\t 1   & 0   & 0   & 0   & 0   & 0   & 0   & 0   & 0   & 0   & ... & 1   & 0   & 0   & 0   & 1   & 0   & 0   & 0   & 0   & 16 \\\\\n",
       "\t 0   & 0   & 0   & 0   & 0   & 0   & 0   & 0   & 0   & 0   & ... & 0   & 1   & 0   & 1   & 0   & 0   & 0   & 0   & 0   & 21 \\\\\n",
       "\t 0   & 0   & 0   & 1   & 0   & 0   & 0   & 0   & 0   & 0   & ... & 0   & 1   & 0   & 0   & 0   & 0   & 0   & 0   & 1   & 14 \\\\\n",
       "\t 0   & 0   & 0   & 1   & 0   & 0   & 0   & 0   & 0   & 0   & ... & 0   & 1   & 0   & 0   & 0   & 0   & 0   & 0   & 1   & 11 \\\\\n",
       "\\end{tabular}\n"
      ],
      "text/markdown": [
       "\n",
       "| manufactureraudi | manufacturerchevrolet | manufacturerdodge | manufacturerford | manufacturerhonda | manufacturerhyundai | manufacturerjeep | manufacturerlincoln | manufacturermercury | manufacturernissan | ... | flp | flr | class2seater | classcompact | classmidsize | classminivan | classpickup | classsubcompact | classsuv | cty |\n",
       "|---|---|---|---|---|---|---|---|---|---|---|---|---|---|---|---|---|---|---|---|---|\n",
       "| 0   | 0   | 0   | 0   | 0   | 0   | 0   | 0   | 0   | 1   | ... | 0   | 1   | 0   | 0   | 1   | 0   | 0   | 0   | 0   | 18  |\n",
       "| 0   | 0   | 1   | 0   | 0   | 0   | 0   | 0   | 0   | 0   | ... | 0   | 1   | 0   | 0   | 0   | 1   | 0   | 0   | 0   | 16  |\n",
       "| 1   | 0   | 0   | 0   | 0   | 0   | 0   | 0   | 0   | 0   | ... | 1   | 0   | 0   | 0   | 1   | 0   | 0   | 0   | 0   | 16  |\n",
       "| 0   | 0   | 0   | 0   | 0   | 0   | 0   | 0   | 0   | 0   | ... | 0   | 1   | 0   | 1   | 0   | 0   | 0   | 0   | 0   | 21  |\n",
       "| 0   | 0   | 0   | 1   | 0   | 0   | 0   | 0   | 0   | 0   | ... | 0   | 1   | 0   | 0   | 0   | 0   | 0   | 0   | 1   | 14  |\n",
       "| 0   | 0   | 0   | 1   | 0   | 0   | 0   | 0   | 0   | 0   | ... | 0   | 1   | 0   | 0   | 0   | 0   | 0   | 0   | 1   | 11  |\n",
       "\n"
      ],
      "text/plain": [
       "  manufactureraudi manufacturerchevrolet manufacturerdodge manufacturerford\n",
       "1 0                0                     0                 0               \n",
       "2 0                0                     1                 0               \n",
       "3 1                0                     0                 0               \n",
       "4 0                0                     0                 0               \n",
       "5 0                0                     0                 1               \n",
       "6 0                0                     0                 1               \n",
       "  manufacturerhonda manufacturerhyundai manufacturerjeep manufacturerlincoln\n",
       "1 0                 0                   0                0                  \n",
       "2 0                 0                   0                0                  \n",
       "3 0                 0                   0                0                  \n",
       "4 0                 0                   0                0                  \n",
       "5 0                 0                   0                0                  \n",
       "6 0                 0                   0                0                  \n",
       "  manufacturermercury manufacturernissan ... flp flr class2seater classcompact\n",
       "1 0                   1                  ... 0   1   0            0           \n",
       "2 0                   0                  ... 0   1   0            0           \n",
       "3 0                   0                  ... 1   0   0            0           \n",
       "4 0                   0                  ... 0   1   0            1           \n",
       "5 0                   0                  ... 0   1   0            0           \n",
       "6 0                   0                  ... 0   1   0            0           \n",
       "  classmidsize classminivan classpickup classsubcompact classsuv cty\n",
       "1 1            0            0           0               0        18 \n",
       "2 0            1            0           0               0        16 \n",
       "3 1            0            0           0               0        16 \n",
       "4 0            0            0           0               0        21 \n",
       "5 0            0            0           0               1        14 \n",
       "6 0            0            0           0               1        11 "
      ]
     },
     "metadata": {},
     "output_type": "display_data"
    }
   ],
   "source": [
    "head(X_train)"
   ]
  },
  {
   "cell_type": "code",
   "execution_count": null,
   "metadata": {},
   "outputs": [],
   "source": []
  },
  {
   "cell_type": "code",
   "execution_count": 662,
   "metadata": {},
   "outputs": [],
   "source": [
    "X_train = data.matrix(X_train)\n",
    "X_test = data.matrix(X_test)"
   ]
  },
  {
   "cell_type": "code",
   "execution_count": 663,
   "metadata": {},
   "outputs": [],
   "source": [
    "y_train= as.matrix(y_train)\n",
    "y_test = as.matrix(y_test)"
   ]
  },
  {
   "cell_type": "code",
   "execution_count": 664,
   "metadata": {},
   "outputs": [],
   "source": [
    "xgb_train = xgb.DMatrix(data = X_train, label = y_train)\n",
    "xgb_test = xgb.DMatrix(data = X_test, label = y_test)\n"
   ]
  },
  {
   "cell_type": "markdown",
   "metadata": {},
   "source": [
    "## Model FItting"
   ]
  },
  {
   "cell_type": "code",
   "execution_count": 689,
   "metadata": {},
   "outputs": [
    {
     "name": "stdout",
     "output_type": "stream",
     "text": [
      "[1]\ttrain-rmse:17.126881 \n",
      "[2]\ttrain-rmse:12.202215 \n",
      "[3]\ttrain-rmse:8.744465 \n",
      "[4]\ttrain-rmse:6.297843 \n",
      "[5]\ttrain-rmse:4.587144 \n",
      "[6]\ttrain-rmse:3.385869 \n",
      "[7]\ttrain-rmse:2.538289 \n",
      "[8]\ttrain-rmse:1.926643 \n",
      "[9]\ttrain-rmse:1.491506 \n",
      "[10]\ttrain-rmse:1.185894 \n",
      "[11]\ttrain-rmse:0.963444 \n",
      "[12]\ttrain-rmse:0.803918 \n",
      "[13]\ttrain-rmse:0.668958 \n",
      "[14]\ttrain-rmse:0.574435 \n",
      "[15]\ttrain-rmse:0.508938 \n",
      "[16]\ttrain-rmse:0.465579 \n",
      "[17]\ttrain-rmse:0.416121 \n",
      "[18]\ttrain-rmse:0.376307 \n",
      "[19]\ttrain-rmse:0.347699 \n",
      "[20]\ttrain-rmse:0.333774 \n",
      "[21]\ttrain-rmse:0.321125 \n",
      "[22]\ttrain-rmse:0.315174 \n",
      "[23]\ttrain-rmse:0.304354 \n",
      "[24]\ttrain-rmse:0.296492 \n",
      "[25]\ttrain-rmse:0.285399 \n",
      "[26]\ttrain-rmse:0.275537 \n",
      "[27]\ttrain-rmse:0.269232 \n",
      "[28]\ttrain-rmse:0.261621 \n",
      "[29]\ttrain-rmse:0.245459 \n",
      "[30]\ttrain-rmse:0.234087 \n",
      "[31]\ttrain-rmse:0.215114 \n",
      "[32]\ttrain-rmse:0.208581 \n",
      "[33]\ttrain-rmse:0.196307 \n",
      "[34]\ttrain-rmse:0.191141 \n",
      "[35]\ttrain-rmse:0.176471 \n",
      "[36]\ttrain-rmse:0.170932 \n",
      "[37]\ttrain-rmse:0.163510 \n",
      "[38]\ttrain-rmse:0.158627 \n",
      "[39]\ttrain-rmse:0.155809 \n",
      "[40]\ttrain-rmse:0.148081 \n",
      "[41]\ttrain-rmse:0.143292 \n",
      "[42]\ttrain-rmse:0.141317 \n",
      "[43]\ttrain-rmse:0.140529 \n",
      "[44]\ttrain-rmse:0.138065 \n",
      "[45]\ttrain-rmse:0.132739 \n",
      "[46]\ttrain-rmse:0.125315 \n",
      "[47]\ttrain-rmse:0.120962 \n",
      "[48]\ttrain-rmse:0.119449 \n",
      "[49]\ttrain-rmse:0.117342 \n",
      "[50]\ttrain-rmse:0.115725 \n",
      "[51]\ttrain-rmse:0.113366 \n",
      "[52]\ttrain-rmse:0.110432 \n",
      "[53]\ttrain-rmse:0.109583 \n",
      "[54]\ttrain-rmse:0.107700 \n",
      "[55]\ttrain-rmse:0.107021 \n",
      "[56]\ttrain-rmse:0.104936 \n",
      "[57]\ttrain-rmse:0.101488 \n",
      "[58]\ttrain-rmse:0.100183 \n",
      "[59]\ttrain-rmse:0.098330 \n",
      "[60]\ttrain-rmse:0.097153 \n",
      "[61]\ttrain-rmse:0.096452 \n",
      "[62]\ttrain-rmse:0.096147 \n",
      "[63]\ttrain-rmse:0.094042 \n",
      "[64]\ttrain-rmse:0.093620 \n",
      "[65]\ttrain-rmse:0.093315 \n",
      "[66]\ttrain-rmse:0.090236 \n",
      "[67]\ttrain-rmse:0.089362 \n",
      "[68]\ttrain-rmse:0.088119 \n",
      "[69]\ttrain-rmse:0.086234 \n",
      "[70]\ttrain-rmse:0.085322 \n",
      "##### xgb.Booster\n",
      "raw: 132.4 Kb \n",
      "call:\n",
      "  xgb.train(params = params, data = dtrain, nrounds = nrounds, \n",
      "    watchlist = watchlist, verbose = verbose, print_every_n = print_every_n, \n",
      "    early_stopping_rounds = early_stopping_rounds, maximize = maximize, \n",
      "    save_period = save_period, save_name = save_name, xgb_model = xgb_model, \n",
      "    callbacks = callbacks, max.depth = 8, min.child_weight = 2)\n",
      "params (as set within xgb.train):\n",
      "  max_depth = \"8\", min_child_weight = \"2\", validate_parameters = \"1\"\n",
      "xgb.attributes:\n",
      "  niter\n",
      "callbacks:\n",
      "  cb.print.evaluation(period = print_every_n)\n",
      "  cb.evaluation.log()\n",
      "# of features: 72 \n",
      "niter: 70\n",
      "nfeatures : 72 \n",
      "evaluation_log:\n",
      "    iter train_rmse\n",
      "       1  17.126881\n",
      "       2  12.202215\n",
      "---                \n",
      "      69   0.086234\n",
      "      70   0.085322\n"
     ]
    }
   ],
   "source": [
    "xgbc = xgboost(data = xgb_train, max.depth = 8, nrounds = 70,min.child_weight=2)\n",
    "print(xgbc)"
   ]
  },
  {
   "cell_type": "code",
   "execution_count": 690,
   "metadata": {},
   "outputs": [],
   "source": [
    "colnames(xgb_test) <- NULL\n"
   ]
  },
  {
   "cell_type": "code",
   "execution_count": 691,
   "metadata": {},
   "outputs": [],
   "source": [
    "y_pred = predict(xgbc, xgb_test)"
   ]
  },
  {
   "cell_type": "code",
   "execution_count": 692,
   "metadata": {},
   "outputs": [
    {
     "name": "stdout",
     "output_type": "stream",
     "text": [
      "MSE:  108.7069 MAE:  8.734233  RMSE:  10.42626"
     ]
    }
   ],
   "source": [
    "mse = mean((y_test - y_pred)^2)\n",
    "mae = caret::MAE(y_test, y_pred)\n",
    "rmse = caret::RMSE(y_test, y_pred)\n",
    "\n",
    "cat(\"MSE: \", mse, \"MAE: \", mae, \" RMSE: \", rmse)\n"
   ]
  },
  {
   "cell_type": "code",
   "execution_count": 693,
   "metadata": {},
   "outputs": [],
   "source": [
    "out_data <-\n",
    "  data.frame(\n",
    "    idx = seq.int(nrow(y_test)),   \n",
    "    hwy_true = y_test,\n",
    "    hwy_pred = y_pred\n",
    "    \n",
    "    \n",
    "  )"
   ]
  },
  {
   "cell_type": "code",
   "execution_count": 694,
   "metadata": {},
   "outputs": [
    {
     "data": {
      "image/png": "[encoded data removed]",
      "text/plain": [
       "plot without title"
      ]
     },
     "metadata": {},
     "output_type": "display_data"
    }
   ],
   "source": [
    "out_data_long <- melt(out_data, id='idx')  # convert to long format\n",
    "ggplot(out_data_long,aes(idx,value,group= variable,color=variable))+\n",
    "        geom_line()+\n",
    "        geom_point(shape=18)+\n",
    "        scale_color_manual(values=c( \"#de2d26\", \"#2b8cbe\", \"#636363\"))\n",
    "        \n",
    "       "
   ]
  },
  {
   "cell_type": "markdown",
   "metadata": {},
   "source": [
    "## model tuning\n",
    "1. Removed Cty to see if the model is good with City MPG\n",
    "2. Removed model because that creates too many categories for a small dataset"
   ]
  },
  {
   "cell_type": "code",
   "execution_count": 717,
   "metadata": {},
   "outputs": [],
   "source": [
    "\n",
    "# Random sample indexes\n",
    "train_index <- sample(1:nrow(df), 0.8 * nrow(df))\n",
    "test_index <- setdiff(1:nrow(df), train_index)\n",
    "\n",
    "# Build train,test\n",
    "\n",
    "train <- df[train_index,]\n",
    "test <- df[train_index,]"
   ]
  },
  {
   "cell_type": "code",
   "execution_count": 718,
   "metadata": {},
   "outputs": [],
   "source": [
    "# creating recipe\n",
    "\n",
    "rec_obj <- \n",
    "    recipe(hwy ~. , data = train)%>%\n",
    "    step_rm(cty,model) %>% \n",
    "    step_dummy(all_nominal(), -all_outcomes()) \n"
   ]
  },
  {
   "cell_type": "code",
   "execution_count": null,
   "metadata": {},
   "outputs": [],
   "source": []
  },
  {
   "cell_type": "code",
   "execution_count": 719,
   "metadata": {},
   "outputs": [],
   "source": [
    "# Specify the model and the parameters to tune (parnsip)\n",
    "model <-\n",
    "  boost_tree(tree_depth = tune(), mtry = tune()) %>% \n",
    "  set_mode(\"regression\") %>% \n",
    "  set_engine(\"xgboost\")"
   ]
  },
  {
   "cell_type": "code",
   "execution_count": 720,
   "metadata": {},
   "outputs": [],
   "source": [
    "?boost_tree"
   ]
  },
  {
   "cell_type": "code",
   "execution_count": 721,
   "metadata": {},
   "outputs": [],
   "source": [
    "# Specify the resampling method (rsample)\n",
    "splits <- vfold_cv(train, v = 5)\n"
   ]
  },
  {
   "cell_type": "code",
   "execution_count": 722,
   "metadata": {},
   "outputs": [],
   "source": [
    "# Specify the metrics to optimize (yardstick)\n",
    "metrics <- metric_set(yardstick::rmse)\n"
   ]
  },
  {
   "cell_type": "code",
   "execution_count": 723,
   "metadata": {},
   "outputs": [],
   "source": [
    "# Specify the parameters grid (or you can use dials to automate your grid search)\n",
    "grid <- expand_grid(tree_depth = c(4, 6, 8, 10),\n",
    "                    mtry = c(2, 4,6, 8,10,12,14)) "
   ]
  },
  {
   "cell_type": "code",
   "execution_count": null,
   "metadata": {},
   "outputs": [],
   "source": []
  },
  {
   "cell_type": "code",
   "execution_count": 724,
   "metadata": {
    "scrolled": true
   },
   "outputs": [
    {
     "name": "stderr",
     "output_type": "stream",
     "text": [
      "Warning message:\n",
      "\"The `...` are not used in this function but one or more objects were passed: 'data'\"! Fold1: model  1/28 (predictions): There are new levels in a factor: s4\n",
      "! Fold1: model  2/28 (predictions): There are new levels in a factor: s4\n",
      "! Fold1: model  3/28 (predictions): There are new levels in a factor: s4\n",
      "! Fold1: model  4/28 (predictions): There are new levels in a factor: s4\n",
      "! Fold1: model  5/28 (predictions): There are new levels in a factor: s4\n",
      "! Fold1: model  6/28 (predictions): There are new levels in a factor: s4\n",
      "! Fold1: model  7/28 (predictions): There are new levels in a factor: s4\n",
      "! Fold1: model  8/28 (predictions): There are new levels in a factor: s4\n",
      "! Fold1: model  9/28 (predictions): There are new levels in a factor: s4\n",
      "! Fold1: model 10/28 (predictions): There are new levels in a factor: s4\n",
      "! Fold1: model 11/28 (predictions): There are new levels in a factor: s4\n",
      "! Fold1: model 12/28 (predictions): There are new levels in a factor: s4\n",
      "! Fold1: model 13/28 (predictions): There are new levels in a factor: s4\n",
      "! Fold1: model 14/28 (predictions): There are new levels in a factor: s4\n",
      "! Fold1: model 15/28 (predictions): There are new levels in a factor: s4\n",
      "! Fold1: model 16/28 (predictions): There are new levels in a factor: s4\n",
      "! Fold1: model 17/28 (predictions): There are new levels in a factor: s4\n",
      "! Fold1: model 18/28 (predictions): There are new levels in a factor: s4\n",
      "! Fold1: model 19/28 (predictions): There are new levels in a factor: s4\n",
      "! Fold1: model 20/28 (predictions): There are new levels in a factor: s4\n",
      "! Fold1: model 21/28 (predictions): There are new levels in a factor: s4\n",
      "! Fold1: model 22/28 (predictions): There are new levels in a factor: s4\n",
      "! Fold1: model 23/28 (predictions): There are new levels in a factor: s4\n",
      "! Fold1: model 24/28 (predictions): There are new levels in a factor: s4\n",
      "! Fold1: model 25/28 (predictions): There are new levels in a factor: s4\n",
      "! Fold1: model 26/28 (predictions): There are new levels in a factor: s4\n",
      "! Fold1: model 27/28 (predictions): There are new levels in a factor: s4\n",
      "! Fold1: model 28/28 (predictions): There are new levels in a factor: s4\n",
      "! Fold3: model  1/28 (predictions): There are new levels in a factor: c\n",
      "! Fold3: model  2/28 (predictions): There are new levels in a factor: c\n",
      "! Fold3: model  3/28 (predictions): There are new levels in a factor: c\n",
      "! Fold3: model  4/28 (predictions): There are new levels in a factor: c\n",
      "! Fold3: model  5/28 (predictions): There are new levels in a factor: c\n",
      "! Fold3: model  6/28 (predictions): There are new levels in a factor: c\n",
      "! Fold3: model  7/28 (predictions): There are new levels in a factor: c\n",
      "! Fold3: model  8/28 (predictions): There are new levels in a factor: c\n",
      "! Fold3: model  9/28 (predictions): There are new levels in a factor: c\n",
      "! Fold3: model 10/28 (predictions): There are new levels in a factor: c\n",
      "! Fold3: model 11/28 (predictions): There are new levels in a factor: c\n",
      "! Fold3: model 12/28 (predictions): There are new levels in a factor: c\n",
      "! Fold3: model 13/28 (predictions): There are new levels in a factor: c\n",
      "! Fold3: model 14/28 (predictions): There are new levels in a factor: c\n",
      "! Fold3: model 15/28 (predictions): There are new levels in a factor: c\n",
      "! Fold3: model 16/28 (predictions): There are new levels in a factor: c\n",
      "! Fold3: model 17/28 (predictions): There are new levels in a factor: c\n",
      "! Fold3: model 18/28 (predictions): There are new levels in a factor: c\n",
      "! Fold3: model 19/28 (predictions): There are new levels in a factor: c\n",
      "! Fold3: model 20/28 (predictions): There are new levels in a factor: c\n",
      "! Fold3: model 21/28 (predictions): There are new levels in a factor: c\n",
      "! Fold3: model 22/28 (predictions): There are new levels in a factor: c\n",
      "! Fold3: model 23/28 (predictions): There are new levels in a factor: c\n",
      "! Fold3: model 24/28 (predictions): There are new levels in a factor: c\n",
      "! Fold3: model 25/28 (predictions): There are new levels in a factor: c\n",
      "! Fold3: model 26/28 (predictions): There are new levels in a factor: c\n",
      "! Fold3: model 27/28 (predictions): There are new levels in a factor: c\n",
      "! Fold3: model 28/28 (predictions): There are new levels in a factor: c\n"
     ]
    }
   ],
   "source": [
    "# Run each model (tune)\n",
    "tuned <- tune_grid( model,\n",
    "    rec_obj,\n",
    "                      resamples = splits,\n",
    "                   data = train,\n",
    "                   grid = grid,\n",
    "                   metrics = metrics,\n",
    "                   \n",
    "                   control = control_grid(verbose = FALSE))"
   ]
  },
  {
   "cell_type": "code",
   "execution_count": 725,
   "metadata": {
    "scrolled": false
   },
   "outputs": [
    {
     "data": {
      "text/html": [
       "<table>\n",
       "<thead><tr><th scope=col>mtry</th><th scope=col>tree_depth</th><th scope=col>.metric</th><th scope=col>.estimator</th><th scope=col>mean</th><th scope=col>n</th><th scope=col>std_err</th><th scope=col>.config</th></tr></thead>\n",
       "<tbody>\n",
       "\t<tr><td>14       </td><td> 8       </td><td>rmse     </td><td>standard </td><td>2.320041 </td><td>5        </td><td>0.6239983</td><td>Model21  </td></tr>\n",
       "\t<tr><td>12       </td><td> 8       </td><td>rmse     </td><td>standard </td><td>2.327006 </td><td>5        </td><td>0.5820933</td><td>Model20  </td></tr>\n",
       "\t<tr><td>10       </td><td> 8       </td><td>rmse     </td><td>standard </td><td>2.343887 </td><td>5        </td><td>0.5646376</td><td>Model19  </td></tr>\n",
       "\t<tr><td>12       </td><td>10       </td><td>rmse     </td><td>standard </td><td>2.347072 </td><td>5        </td><td>0.6094910</td><td>Model27  </td></tr>\n",
       "\t<tr><td>10       </td><td> 6       </td><td>rmse     </td><td>standard </td><td>2.393366 </td><td>5        </td><td>0.5599983</td><td>Model12  </td></tr>\n",
       "</tbody>\n",
       "</table>\n"
      ],
      "text/latex": [
       "\\begin{tabular}{r|llllllll}\n",
       " mtry & tree\\_depth & .metric & .estimator & mean & n & std\\_err & .config\\\\\n",
       "\\hline\n",
       "\t 14        &  8        & rmse      & standard  & 2.320041  & 5         & 0.6239983 & Model21  \\\\\n",
       "\t 12        &  8        & rmse      & standard  & 2.327006  & 5         & 0.5820933 & Model20  \\\\\n",
       "\t 10        &  8        & rmse      & standard  & 2.343887  & 5         & 0.5646376 & Model19  \\\\\n",
       "\t 12        & 10        & rmse      & standard  & 2.347072  & 5         & 0.6094910 & Model27  \\\\\n",
       "\t 10        &  6        & rmse      & standard  & 2.393366  & 5         & 0.5599983 & Model12  \\\\\n",
       "\\end{tabular}\n"
      ],
      "text/markdown": [
       "\n",
       "| mtry | tree_depth | .metric | .estimator | mean | n | std_err | .config |\n",
       "|---|---|---|---|---|---|---|---|\n",
       "| 14        |  8        | rmse      | standard  | 2.320041  | 5         | 0.6239983 | Model21   |\n",
       "| 12        |  8        | rmse      | standard  | 2.327006  | 5         | 0.5820933 | Model20   |\n",
       "| 10        |  8        | rmse      | standard  | 2.343887  | 5         | 0.5646376 | Model19   |\n",
       "| 12        | 10        | rmse      | standard  | 2.347072  | 5         | 0.6094910 | Model27   |\n",
       "| 10        |  6        | rmse      | standard  | 2.393366  | 5         | 0.5599983 | Model12   |\n",
       "\n"
      ],
      "text/plain": [
       "  mtry tree_depth .metric .estimator mean     n std_err   .config\n",
       "1 14    8         rmse    standard   2.320041 5 0.6239983 Model21\n",
       "2 12    8         rmse    standard   2.327006 5 0.5820933 Model20\n",
       "3 10    8         rmse    standard   2.343887 5 0.5646376 Model19\n",
       "4 12   10         rmse    standard   2.347072 5 0.6094910 Model27\n",
       "5 10    6         rmse    standard   2.393366 5 0.5599983 Model12"
      ]
     },
     "metadata": {},
     "output_type": "display_data"
    }
   ],
   "source": [
    "# Check results\n",
    "show_best(tuned)"
   ]
  },
  {
   "cell_type": "code",
   "execution_count": 726,
   "metadata": {},
   "outputs": [
    {
     "data": {
      "image/png": "[encoded data removed]",
      "text/plain": [
       "plot without title"
      ]
     },
     "metadata": {},
     "output_type": "display_data"
    }
   ],
   "source": [
    "autoplot(tuned)"
   ]
  },
  {
   "cell_type": "code",
   "execution_count": 727,
   "metadata": {},
   "outputs": [
    {
     "data": {
      "text/html": [
       "<table>\n",
       "<thead><tr><th scope=col>mtry</th><th scope=col>tree_depth</th><th scope=col>.config</th></tr></thead>\n",
       "<tbody>\n",
       "\t<tr><td>14     </td><td>8      </td><td>Model21</td></tr>\n",
       "</tbody>\n",
       "</table>\n"
      ],
      "text/latex": [
       "\\begin{tabular}{r|lll}\n",
       " mtry & tree\\_depth & .config\\\\\n",
       "\\hline\n",
       "\t 14      & 8       & Model21\\\\\n",
       "\\end{tabular}\n"
      ],
      "text/markdown": [
       "\n",
       "| mtry | tree_depth | .config |\n",
       "|---|---|---|\n",
       "| 14      | 8       | Model21 |\n",
       "\n"
      ],
      "text/plain": [
       "  mtry tree_depth .config\n",
       "1 14   8          Model21"
      ]
     },
     "metadata": {},
     "output_type": "display_data"
    }
   ],
   "source": [
    "select_best(tuned)\n"
   ]
  },
  {
   "cell_type": "code",
   "execution_count": 728,
   "metadata": {},
   "outputs": [],
   "source": [
    "# Update model\n",
    "tuned_model <- \n",
    "  model %>% \n",
    "  finalize_model(select_best(tuned)) %>% \n",
    "  fit(hwy ~ ., data = train)"
   ]
  },
  {
   "cell_type": "code",
   "execution_count": 729,
   "metadata": {},
   "outputs": [],
   "source": [
    "test[c('hwy_pred')] <-predict(tuned_model,test)\n"
   ]
  },
  {
   "cell_type": "code",
   "execution_count": 730,
   "metadata": {},
   "outputs": [],
   "source": [
    "out_data <- test[,c('hwy','hwy_pred')]\n"
   ]
  },
  {
   "cell_type": "code",
   "execution_count": 731,
   "metadata": {},
   "outputs": [
    {
     "name": "stdout",
     "output_type": "stream",
     "text": [
      "MSE:  1.132722 MAE:  0.8018964  RMSE:  1.064294"
     ]
    }
   ],
   "source": [
    "y_test <- as.matrix(out_data[,'hwy'])\n",
    "y_pred <- as.matrix(out_data[,'hwy_pred'])\n",
    "mse = mean((y_test - y_pred)^2)\n",
    "mae = caret::MAE(y_test, y_pred)\n",
    "rmse = caret::RMSE(y_test, y_pred)\n",
    "\n",
    "cat(\"MSE: \", mse, \"MAE: \", mae, \" RMSE: \", rmse)\n"
   ]
  },
  {
   "cell_type": "code",
   "execution_count": 732,
   "metadata": {},
   "outputs": [],
   "source": [
    "out_data[,'idx'] <- seq.int(nrow(test))"
   ]
  },
  {
   "cell_type": "code",
   "execution_count": 733,
   "metadata": {},
   "outputs": [
    {
     "data": {
      "image/png": "[encoded data removed]",
      "text/plain": [
       "plot without title"
      ]
     },
     "metadata": {},
     "output_type": "display_data"
    }
   ],
   "source": [
    "out_data_long <- melt(out_data, id='idx')  # convert to long format\n",
    "ggplot(out_data_long,aes(idx,value,group= variable,color=variable))+\n",
    "        geom_line()+\n",
    "        geom_point(shape=18)+\n",
    "        scale_color_manual(values=c( \"#de2d26\", \"#2b8cbe\", \"#636363\"))+\n",
    "        theme_minimal() +\n",
    "        \n",
    "        theme(legend.position = \"top\")\n",
    "        "
   ]
  },
  {
   "cell_type": "code",
   "execution_count": null,
   "metadata": {},
   "outputs": [],
   "source": []
  }
 ],
 "metadata": {
  "kernelspec": {
   "display_name": "R",
   "language": "R",
   "name": "ir"
  },
  "language_info": {
   "codemirror_mode": "r",
   "file_extension": ".r",
   "mimetype": "text/x-r-source",
   "name": "R",
   "pygments_lexer": "r",
   "version": "3.6.1"
  }
 },
 "nbformat": 4,
 "nbformat_minor": 4
}
